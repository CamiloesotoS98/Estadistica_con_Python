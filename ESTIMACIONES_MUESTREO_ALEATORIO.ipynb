{
 "cells": [
  {
   "cell_type": "markdown",
   "metadata": {},
   "source": [
    "# MUESTREO SIMPLE SIN REEMPLAZO"
   ]
  },
  {
   "cell_type": "code",
   "execution_count": 64,
   "metadata": {},
   "outputs": [
    {
     "name": "stdout",
     "output_type": "stream",
     "text": [
      "Muestra aleatoria: [4, 1, 9, 5]\n"
     ]
    }
   ],
   "source": [
    "import random\n",
    "random.seed(42)\n",
    "X = [1, 4, 5, 7, 8, 9, 5, 7]\n",
    "muestra_tamaño = 4\n",
    "muestra = random.sample(X, muestra_tamaño)\n",
    "print(\"Muestra aleatoria:\", muestra)"
   ]
  },
  {
   "cell_type": "code",
   "execution_count": 42,
   "metadata": {},
   "outputs": [
    {
     "name": "stdout",
     "output_type": "stream",
     "text": [
      "Muestra aleatoria de la columna: [7, 'violeta', 'blanco', 5]\n"
     ]
    }
   ],
   "source": [
    "import pandas as pd\n",
    "import random\n",
    "\n",
    "#random.seed(42)\n",
    "data = {\n",
    "    'columna': ['blanco', 4, 5, 7, 'rojo', 4, 'violeta', 5],\n",
    "    'otra_columna': [10, 20, 30, 40, 50, 60, 70, 80]\n",
    "}\n",
    "df = pd.DataFrame(data)\n",
    "muestra_tamaño = 4\n",
    "muestra_columna = random.sample(list(df['columna']), muestra_tamaño)\n",
    "print(\"Muestra aleatoria de la columna:\", muestra_columna)"
   ]
  },
  {
   "cell_type": "code",
   "execution_count": 22,
   "metadata": {},
   "outputs": [
    {
     "name": "stdout",
     "output_type": "stream",
     "text": [
      "Muestra aleatoria del DataFrame:\n",
      "   columna  otra_columna\n",
      "2        5            30\n",
      "1        4            20\n",
      "0        1            10\n",
      "5        4            60\n"
     ]
    }
   ],
   "source": [
    "import pandas as pd\n",
    "data = {\n",
    "    'columna': [1, 4, 5, 7, 8, 4, 9, 5],\n",
    "    'otra_columna': [10, 20, 30, 40, 50, 60, 70, 80]\n",
    "}\n",
    "df = pd.DataFrame(data)\n",
    "muestra_tamaño = 4\n",
    "muestra_df = df.sample(n=muestra_tamaño, random_state=42)\n",
    "print(\"Muestra aleatoria del DataFrame:\")\n",
    "print(muestra_df)"
   ]
  },
  {
   "cell_type": "markdown",
   "metadata": {},
   "source": [
    "# MUESTREO SIMPLE CON REEMPLAZO"
   ]
  },
  {
   "cell_type": "code",
   "execution_count": null,
   "metadata": {},
   "outputs": [],
   "source": [
    "import random\n",
    "random.seed(42)\n",
    "X = [1, 4, 5, 7, 8, 9, 5, 7]\n",
    "muestra_tamaño = 4\n",
    "muestra = random.choices(X, k=muestra_tamaño)\n",
    "\n",
    "print(\"Muestra aleatoria con reemplazo:\", muestra)\n"
   ]
  },
  {
   "cell_type": "code",
   "execution_count": 65,
   "metadata": {},
   "outputs": [
    {
     "name": "stdout",
     "output_type": "stream",
     "text": [
      "Muestra aleatoria con reemplazo de la columna: [4, 1, 5, 4]\n"
     ]
    }
   ],
   "source": [
    "import pandas as pd\n",
    "import random\n",
    "\n",
    "random.seed(42)\n",
    "\n",
    "data = {\n",
    "    'columna': [1, 4, 5, 7, 8, 4, 9, 5],\n",
    "    'otra_columna': [10, 20, 30, 40, 50, 60, 70, 80]\n",
    "}\n",
    "df = pd.DataFrame(data)\n",
    "muestra_tamaño = 4\n",
    "muestra_columna = random.choices(df['columna'], k=muestra_tamaño)\n",
    "print(\"Muestra aleatoria con reemplazo de la columna:\", muestra_columna)\n"
   ]
  },
  {
   "cell_type": "code",
   "execution_count": 67,
   "metadata": {},
   "outputs": [
    {
     "name": "stdout",
     "output_type": "stream",
     "text": [
      "Muestra aleatoria con reemplazo del DataFrame:\n",
      "   columna  otra_columna\n",
      "6        9            70\n",
      "3        7            40\n",
      "4        8            50\n",
      "6        9            70\n"
     ]
    }
   ],
   "source": [
    "import pandas as pd\n",
    "data = {\n",
    "    'columna': [1, 4, 5, 7, 8, 4, 9, 5],\n",
    "    'otra_columna': [10, 20, 30, 40, 50, 60, 70, 80]\n",
    "}\n",
    "df = pd.DataFrame(data)\n",
    "muestra_tamaño = 4\n",
    "muestra_df = df.sample(n=muestra_tamaño, replace=True, random_state=42)\n",
    "\n",
    "print(\"Muestra aleatoria con reemplazo del DataFrame:\")\n",
    "print(muestra_df)\n"
   ]
  },
  {
   "cell_type": "markdown",
   "metadata": {},
   "source": [
    "# MUESTREO ALEATORIO SISTÉMICO"
   ]
  },
  {
   "cell_type": "code",
   "execution_count": 8,
   "metadata": {},
   "outputs": [
    {
     "name": "stdout",
     "output_type": "stream",
     "text": [
      "Vector original: [1, 40, 3, 4, 23, 7, 2, 31, 45, 23, 1, 9]\n",
      "Muestra aleatoria sistemática: [40, 23, 31, 1]\n"
     ]
    }
   ],
   "source": [
    "import random\n",
    "#vector = [3, 7, 20, 15, 1, 35, 43, 8, 12, 29, 17, 27, 22, 40, 5, 14, 50, 10, 23, 38, \n",
    "#          9, 33, 44, 4, 18, 21, 25, 31, 46, 11, 48, 30, 13, 41, 24, 16, 19, 26, 39, \n",
    "#          32, 47, 6, 2, 42, 28, 45, 26, 49, 34, 37, 51]\n",
    "vector=[1,40,3,4,23,7,2,31,45,23,1,9]\n",
    "muestra_tamaño = 4\n",
    "intervalo = len(vector) // muestra_tamaño\n",
    "inicio = random.randint(0, intervalo - 1)\n",
    "\n",
    "muestra = [vector[i] for i in range(inicio, len(vector), intervalo)][:muestra_tamaño]\n",
    "\n",
    "print(\"Vector original:\", vector)\n",
    "print(\"Muestra aleatoria sistemática:\", muestra)\n"
   ]
  },
  {
   "cell_type": "code",
   "execution_count": 85,
   "metadata": {},
   "outputs": [
    {
     "name": "stdout",
     "output_type": "stream",
     "text": [
      "DataFrame original:\n",
      "    columna\n",
      "0         3\n",
      "1         7\n",
      "2        20\n",
      "3        15\n",
      "4         1\n",
      "5        35\n",
      "6        43\n",
      "7         8\n",
      "8        12\n",
      "9        29\n",
      "10       17\n",
      "11       27\n",
      "12       22\n",
      "13       40\n",
      "14        5\n",
      "15       14\n",
      "16       50\n",
      "17       10\n",
      "18       23\n",
      "19       38\n",
      "20        9\n",
      "21       33\n",
      "22       44\n",
      "23        4\n",
      "24       18\n",
      "25       21\n",
      "26       25\n",
      "27       31\n",
      "28       46\n",
      "29       11\n",
      "30       48\n",
      "31       30\n",
      "32       13\n",
      "33       41\n",
      "34       24\n",
      "35       16\n",
      "36       19\n",
      "37       26\n",
      "38       39\n",
      "39       32\n",
      "40       47\n",
      "41        6\n",
      "42        2\n",
      "43       42\n",
      "44       28\n",
      "45       45\n",
      "46       26\n",
      "47       49\n",
      "48       34\n",
      "49       37\n",
      "50       51\n",
      "\n",
      "Muestra aleatoria sistemática de la columna:\n",
      "[3, 35, 17, 14, 9, 21, 48, 16, 47, 45]\n"
     ]
    }
   ],
   "source": [
    "import pandas as pd\n",
    "import random\n",
    "\n",
    "vector = [3, 7, 20, 15, 1, 35, 43, 8, 12, 29, 17, 27, 22, 40, 5, 14, 50, 10, 23, 38,\n",
    "          9, 33, 44, 4, 18, 21, 25, 31, 46, 11, 48, 30, 13, 41, 24, 16, 19, 26, 39,\n",
    "          32, 47, 6, 2, 42, 28, 45, 26, 49, 34, 37, 51]\n",
    "\n",
    "df = pd.DataFrame({'columna': vector})\n",
    "\n",
    "muestra_tamaño = 10\n",
    "\n",
    "intervalo = len(df) // muestra_tamaño\n",
    "\n",
    "inicio_columna = random.randint(0, intervalo - 1)\n",
    "\n",
    "muestra_columna = [df['columna'].iloc[i] for i in range(inicio_columna, len(df), intervalo)][:muestra_tamaño]\n",
    "\n",
    "print(\"DataFrame original:\")\n",
    "print(df)\n",
    "print(\"\\nMuestra aleatoria sistemática de la columna:\")\n",
    "print(muestra_columna)\n"
   ]
  },
  {
   "cell_type": "code",
   "execution_count": 1,
   "metadata": {},
   "outputs": [
    {
     "name": "stdout",
     "output_type": "stream",
     "text": [
      "DataFrame original:\n",
      "    columna1  columna2\n",
      "0          3         6\n",
      "1          7        14\n",
      "2         20        40\n",
      "3         15        30\n",
      "4          1         2\n",
      "5         35        70\n",
      "6         43        86\n",
      "7          8        16\n",
      "8         12        24\n",
      "9         29        58\n",
      "10        17        34\n",
      "11        27        54\n",
      "12        22        44\n",
      "13        40        80\n",
      "14         5        10\n",
      "15        14        28\n",
      "16        50       100\n",
      "17        10        20\n",
      "18        23        46\n",
      "19        38        76\n",
      "20         9        18\n",
      "21        33        66\n",
      "22        44        88\n",
      "23         4         8\n",
      "24        18        36\n",
      "25        21        42\n",
      "26        25        50\n",
      "27        31        62\n",
      "28        46        92\n",
      "29        11        22\n",
      "30        48        96\n",
      "31        30        60\n",
      "32        13        26\n",
      "33        41        82\n",
      "34        24        48\n",
      "35        16        32\n",
      "36        19        38\n",
      "37        26        52\n",
      "38        39        78\n",
      "39        32        64\n",
      "40        47        94\n",
      "41         6        12\n",
      "42         2         4\n",
      "43        42        84\n",
      "44        28        56\n",
      "45        45        90\n",
      "46        26        52\n",
      "47        49        98\n",
      "48        34        68\n",
      "49        37        74\n",
      "50        51       102\n",
      "\n",
      "Muestra aleatoria sistemática del DataFrame:\n"
     ]
    },
    {
     "data": {
      "text/html": [
       "<div>\n",
       "<style scoped>\n",
       "    .dataframe tbody tr th:only-of-type {\n",
       "        vertical-align: middle;\n",
       "    }\n",
       "\n",
       "    .dataframe tbody tr th {\n",
       "        vertical-align: top;\n",
       "    }\n",
       "\n",
       "    .dataframe thead th {\n",
       "        text-align: right;\n",
       "    }\n",
       "</style>\n",
       "<table border=\"1\" class=\"dataframe\">\n",
       "  <thead>\n",
       "    <tr style=\"text-align: right;\">\n",
       "      <th></th>\n",
       "      <th>columna1</th>\n",
       "      <th>columna2</th>\n",
       "    </tr>\n",
       "  </thead>\n",
       "  <tbody>\n",
       "    <tr>\n",
       "      <th>1</th>\n",
       "      <td>7</td>\n",
       "      <td>14</td>\n",
       "    </tr>\n",
       "    <tr>\n",
       "      <th>6</th>\n",
       "      <td>43</td>\n",
       "      <td>86</td>\n",
       "    </tr>\n",
       "    <tr>\n",
       "      <th>11</th>\n",
       "      <td>27</td>\n",
       "      <td>54</td>\n",
       "    </tr>\n",
       "    <tr>\n",
       "      <th>16</th>\n",
       "      <td>50</td>\n",
       "      <td>100</td>\n",
       "    </tr>\n",
       "    <tr>\n",
       "      <th>21</th>\n",
       "      <td>33</td>\n",
       "      <td>66</td>\n",
       "    </tr>\n",
       "    <tr>\n",
       "      <th>26</th>\n",
       "      <td>25</td>\n",
       "      <td>50</td>\n",
       "    </tr>\n",
       "    <tr>\n",
       "      <th>31</th>\n",
       "      <td>30</td>\n",
       "      <td>60</td>\n",
       "    </tr>\n",
       "    <tr>\n",
       "      <th>36</th>\n",
       "      <td>19</td>\n",
       "      <td>38</td>\n",
       "    </tr>\n",
       "    <tr>\n",
       "      <th>41</th>\n",
       "      <td>6</td>\n",
       "      <td>12</td>\n",
       "    </tr>\n",
       "    <tr>\n",
       "      <th>46</th>\n",
       "      <td>26</td>\n",
       "      <td>52</td>\n",
       "    </tr>\n",
       "  </tbody>\n",
       "</table>\n",
       "</div>"
      ],
      "text/plain": [
       "    columna1  columna2\n",
       "1          7        14\n",
       "6         43        86\n",
       "11        27        54\n",
       "16        50       100\n",
       "21        33        66\n",
       "26        25        50\n",
       "31        30        60\n",
       "36        19        38\n",
       "41         6        12\n",
       "46        26        52"
      ]
     },
     "execution_count": 1,
     "metadata": {},
     "output_type": "execute_result"
    }
   ],
   "source": [
    "import pandas as pd\n",
    "import random\n",
    "\n",
    "vector = [3, 7, 20, 15, 1, 35, 43, 8, 12, 29, 17, 27, 22, 40, 5, 14, 50, 10, 23, 38,\n",
    "          9, 33, 44, 4, 18, 21, 25, 31, 46, 11, 48, 30, 13, 41, 24, 16, 19, 26, 39,\n",
    "          32, 47, 6, 2, 42, 28, 45, 26, 49, 34, 37, 51]\n",
    "df = pd.DataFrame({\n",
    "    'columna1': vector,\n",
    "    'columna2': [x * 2 for x in vector]  # Ejemplo de otra columna\n",
    "})\n",
    "\n",
    "muestra_tamaño = 10\n",
    "\n",
    "intervalo_df = len(df) // muestra_tamaño\n",
    "\n",
    "inicio_df = random.randint(0, intervalo_df - 1)\n",
    "\n",
    "muestra_df = df.iloc[range(inicio_df, len(df), intervalo_df)][:muestra_tamaño]\n",
    "\n",
    "print(\"DataFrame original:\")\n",
    "print(df)\n",
    "print(\"\\nMuestra aleatoria sistemática del DataFrame:\")\n",
    "muestra_df\n"
   ]
  }
 ],
 "metadata": {
  "kernelspec": {
   "display_name": "Python 3",
   "language": "python",
   "name": "python3"
  },
  "language_info": {
   "codemirror_mode": {
    "name": "ipython",
    "version": 3
   },
   "file_extension": ".py",
   "mimetype": "text/x-python",
   "name": "python",
   "nbconvert_exporter": "python",
   "pygments_lexer": "ipython3",
   "version": "3.12.3"
  }
 },
 "nbformat": 4,
 "nbformat_minor": 2
}
