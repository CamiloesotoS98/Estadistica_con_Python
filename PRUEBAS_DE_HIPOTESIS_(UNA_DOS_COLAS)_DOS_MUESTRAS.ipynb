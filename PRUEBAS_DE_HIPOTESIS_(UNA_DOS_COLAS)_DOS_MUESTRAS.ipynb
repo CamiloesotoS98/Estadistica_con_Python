{
 "cells": [
  {
   "cell_type": "markdown",
   "metadata": {},
   "source": [
    "# DESVIACIÓN CONOCIDA"
   ]
  },
  {
   "cell_type": "markdown",
   "metadata": {},
   "source": [
    "# PRUEBA DE UNA COLA"
   ]
  },
  {
   "cell_type": "code",
   "execution_count": 1,
   "metadata": {},
   "outputs": [
    {
     "name": "stdout",
     "output_type": "stream",
     "text": [
      "Estadístico Z: 2.0891\n",
      "Valor crítico Z: 2.0537 (para prueba de una cola con alpha=0.02)\n",
      "Valor p: 0.0183\n",
      "Rechazamos la hipótesis nula: media1 es significativamente mayor que media2.\n"
     ]
    }
   ],
   "source": [
    "import math\n",
    "from scipy.stats import norm\n",
    "\n",
    "# Entradas\n",
    "media1 = 20.75\n",
    "media2 = 19.80\n",
    "desviacion1 = 2.25\n",
    "desviacion2 = 1.90\n",
    "n1 = 40\n",
    "n2 = 45\n",
    "alpha = 0.02\n",
    "\n",
    "# Estándarización\n",
    "error_estandar = math.sqrt((desviacion1 ** 2 / n1) + (desviacion2 ** 2 / n2))\n",
    "z = (media1 - media2) / error_estandar\n",
    "\n",
    "# Prueba de hipótesis - Estadístico de prueba\n",
    "z_critico = norm.ppf(1 - alpha)\n",
    "p_value = 1 - norm.cdf(z)\n",
    "\n",
    "print(f\"Estadístico Z: {z:.4f}\")\n",
    "print(f\"Valor crítico Z: {z_critico:.4f} (para prueba de una cola con alpha={alpha})\")\n",
    "print(f\"Valor p: {p_value:.4f}\")\n",
    "\n",
    "if z > z_critico:\n",
    "    print(\"Rechazamos la hipótesis nula: media1 es significativamente mayor que media2.\")\n",
    "else:\n",
    "    print(\"No se puede rechazar la hipótesis nula.\")\n"
   ]
  },
  {
   "cell_type": "markdown",
   "metadata": {},
   "source": [
    "# PRUEBA DE DOS COLAS"
   ]
  },
  {
   "cell_type": "code",
   "execution_count": 8,
   "metadata": {},
   "outputs": [
    {
     "name": "stdout",
     "output_type": "stream",
     "text": [
      "Estadístico Z: 2.5868\n",
      "Valor crítico Z: ±2.0537\n",
      "Valor p: 0.0097\n",
      "Rechazamos la hipótesis nula.\n"
     ]
    }
   ],
   "source": [
    "import math\n",
    "from scipy.stats import norm\n",
    "\n",
    "# Entradas\n",
    "media1 = 102\n",
    "media2 = 99\n",
    "desviacion1 = 5\n",
    "desviacion2 = 6\n",
    "n1 = 40\n",
    "n2 = 50\n",
    "alpha = 0.04\n",
    "\n",
    "# Cálculos\n",
    "error_estandar = math.sqrt((desviacion1 ** 2 / n1) + (desviacion2 ** 2 / n2))\n",
    "\n",
    "# Estándarización\n",
    "z = (media1 - media2) / error_estandar\n",
    "\n",
    "# Prueba de hipótesis - Estadístico de prueba\n",
    "z_critico = norm.ppf(1 - alpha / 2)\n",
    "p_value = 2 * (1 - norm.cdf(abs(z)))\n",
    "\n",
    "print(f\"Estadístico Z: {z:.4f}\")\n",
    "print(f\"Valor crítico Z: ±{z_critico:.4f}\")\n",
    "print(f\"Valor p: {p_value:.4f}\")\n",
    "\n",
    "if abs(z) > z_critico:\n",
    "    print(\"Rechazamos la hipótesis nula.\")\n",
    "else:\n",
    "    print(\"No se puede rechazar la hipótesis nula.\")\n"
   ]
  },
  {
   "cell_type": "markdown",
   "metadata": {},
   "source": [
    "# DESVIACIÓN DESCONOCIDA"
   ]
  },
  {
   "cell_type": "markdown",
   "metadata": {},
   "source": [
    "# PRUEBA DE UNA COLA"
   ]
  },
  {
   "cell_type": "code",
   "execution_count": null,
   "metadata": {},
   "outputs": [],
   "source": [
    "import numpy as np\n",
    "from scipy import stats\n",
    "\n",
    "# Definir las dos muestras\n",
    "muestra1 = [12.3, 10.4, 11.7, 13.2, 12.9, 12.6, 11.8, 12.7, 11.2, 12.1]\n",
    "muestra2 = [11.4, 10.9, 12.2, 10.8, 11.6, 12.0, 11.3, 11.7, 10.6, 11.5]\n",
    "alpha = 0.05\n",
    "n1, n2 = len(muestra1), len(muestra2)\n",
    "media1, media2 = np.mean(muestra1), np.mean(muestra2) #Media muestral\n",
    "std1, std2 = np.std(muestra1, ddof=1), np.std(muestra2, ddof=1) #Desviación estándar muestral\n",
    "var1, var2 = std1 ** 2, std2 ** 2 #Varianza muestral\n",
    "\n",
    "# Varianza conjunta \n",
    "sp2 = ((n1 - 1) * var1 + (n2 - 1) * var2) / (n1 + n2 - 2)\n",
    "\n",
    "# Estadístico de prueba t \n",
    "t_stat = (media1 - media2) / np.sqrt(sp2 * (1 / n1 + 1 / n2))\n",
    "\n",
    "# Grados de libertad\n",
    "df = n1 + n2 - 2\n",
    "\n",
    "# valor p\n",
    "p_valor = 1 - stats.t.cdf(t_stat, df)\n",
    "\n",
    "\n",
    "if p_valor < alpha:\n",
    "    print(f\"Rechazamos la hipótesis nula con p-valor: {p_valor:.5f}\")\n",
    "else:\n",
    "    print(f\"No se puede rechazar la hipótesis nula con p-valor: {p_valor:.5f}\")\n",
    "\n",
    "# Mostrar los cálculos detallados\n",
    "print(\"\\nResultados (Una Cola - Mayor):\")\n",
    "print(f\"Tamaño Muestra 1: {n1}\")\n",
    "print(f\"Tamaño Muestra 2: {n2}\")\n",
    "print(f\"Media Muestra 1: {media1:.3f}\")\n",
    "print(f\"Media Muestra 2: {media2:.3f}\")\n",
    "print(f\"Desviación Estándar Muestra 1: {std1:.3f}\")\n",
    "print(f\"Desviación Estándar Muestra 2: {std2:.3f}\")\n",
    "print(f\"Varianza Muestra 1: {var1:.3f}\")\n",
    "print(f\"Varianza Muestra 2: {var2:.3f}\")\n",
    "print(f\"Varianza Conjunta: {sp2:.3f}\")\n",
    "print(f\"Estadístico t: {t_stat:.3f}\")\n",
    "print(f\"Grados de libertad: {df}\")\n",
    "print(f\"Valor p: {p_valor:.5f}\")\n"
   ]
  },
  {
   "cell_type": "markdown",
   "metadata": {},
   "source": [
    "# PRUEBA DE DOS COLAS"
   ]
  },
  {
   "cell_type": "code",
   "execution_count": 2,
   "metadata": {},
   "outputs": [
    {
     "name": "stdout",
     "output_type": "stream",
     "text": [
      "No se puede rechazar la hipótesis nula con p-valor: 0.52453\n",
      "\n",
      "Resultados (Dos Colas):\n",
      "Tamaño Muestra 1: 5\n",
      "Tamaño Muestra 2: 6\n",
      "Media Muestra 1: 4.000\n",
      "Media Muestra 2: 5.000\n",
      "Desviación Estándar Muestra 1: 2.915\n",
      "Desviación Estándar Muestra 2: 2.098\n",
      "Varianza Muestra 1: 8.500\n",
      "Varianza Muestra 2: 4.400\n",
      "Varianza Conjunta: 6.222\n",
      "Estadístico t: -0.662\n",
      "Grados de libertad: 9\n",
      "Valor p: 0.52453\n"
     ]
    }
   ],
   "source": [
    "import numpy as np\n",
    "from scipy import stats\n",
    "\n",
    "# Definir las dos muestras\n",
    "muestra1 = [2,4,9,3,2]\n",
    "muestra2 = [3,7,5,8,4,3]\n",
    "alpha = 0.10\n",
    "n1, n2 = len(muestra1), len(muestra2)\n",
    "\n",
    "media1, media2 = np.mean(muestra1), np.mean(muestra2) #Media muestral\n",
    "std1, std2 = np.std(muestra1, ddof=1), np.std(muestra2, ddof=1) #Desviación estándar muestral\n",
    "var1, var2 = std1 ** 2, std2 ** 2 #Varianza muestral\n",
    "\n",
    "# Varianza conjunta \n",
    "sp2 = ((n1 - 1) * var1 + (n2 - 1) * var2) / (n1 + n2 - 2)\n",
    "\n",
    "# Estadístico de prueba t \n",
    "t_stat = (media1 - media2) / np.sqrt(sp2 * (1 / n1 + 1 / n2))\n",
    "\n",
    "# Grados de libertad\n",
    "df = n1 + n2 - 2\n",
    "\n",
    "# Valor p para prueba de dos colas\n",
    "p_valor = 2 * (1 - stats.t.cdf(abs(t_stat), df))\n",
    "\n",
    "if p_valor < alpha:\n",
    "    print(f\"Rechazamos la hipótesis nula con p-valor: {p_valor:.5f}\")\n",
    "else:\n",
    "    print(f\"No se puede rechazar la hipótesis nula con p-valor: {p_valor:.5f}\")\n",
    "\n",
    "# Mostrar los cálculos detallados\n",
    "print(\"\\nResultados (Dos Colas):\")\n",
    "print(f\"Tamaño Muestra 1: {n1}\")\n",
    "print(f\"Tamaño Muestra 2: {n2}\")\n",
    "print(f\"Media Muestra 1: {media1:.3f}\")\n",
    "print(f\"Media Muestra 2: {media2:.3f}\")\n",
    "print(f\"Desviación Estándar Muestra 1: {std1:.3f}\")\n",
    "print(f\"Desviación Estándar Muestra 2: {std2:.3f}\")\n",
    "print(f\"Varianza Muestra 1: {var1:.3f}\")\n",
    "print(f\"Varianza Muestra 2: {var2:.3f}\")\n",
    "print(f\"Varianza Conjunta: {sp2:.3f}\")\n",
    "print(f\"Estadístico t: {t_stat:.3f}\")\n",
    "print(f\"Grados de libertad: {df}\")\n",
    "print(f\"Valor p: {p_valor:.5f}\")\n"
   ]
  }
 ],
 "metadata": {
  "kernelspec": {
   "display_name": "Python 3",
   "language": "python",
   "name": "python3"
  },
  "language_info": {
   "codemirror_mode": {
    "name": "ipython",
    "version": 3
   },
   "file_extension": ".py",
   "mimetype": "text/x-python",
   "name": "python",
   "nbconvert_exporter": "python",
   "pygments_lexer": "ipython3",
   "version": "3.12.5"
  }
 },
 "nbformat": 4,
 "nbformat_minor": 2
}
