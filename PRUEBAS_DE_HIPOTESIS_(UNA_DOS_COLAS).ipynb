{
 "cells": [
  {
   "cell_type": "markdown",
   "metadata": {},
   "source": [
    "# DESVIACIÓN CONOCIDA"
   ]
  },
  {
   "cell_type": "markdown",
   "metadata": {},
   "source": [
    "## PRUEBAS DE HIPÓTESIS DE UNA COLA"
   ]
  },
  {
   "cell_type": "code",
   "execution_count": 15,
   "metadata": {},
   "outputs": [
    {
     "name": "stdout",
     "output_type": "stream",
     "text": [
      "Valor Z: 1.9361718016939333\n",
      "Valor P: 0.02642333143251341\n",
      "Rechazar la hipótesis nula (valor p < 0.05)\n"
     ]
    }
   ],
   "source": [
    "import scipy.stats as stats\n",
    "import math\n",
    "\n",
    "\n",
    "media_muestral = 931.8\n",
    "media_poblacional = 895\n",
    "desviacion_estandar_poblacional = 255\n",
    "tamaño_muestra =180\n",
    "\n",
    "z = (media_muestral - media_poblacional) / (desviacion_estandar_poblacional / math.sqrt(tamaño_muestra))\n",
    "\n",
    "if z < 0:\n",
    "    p_valor = stats.norm.cdf(z)\n",
    "else:\n",
    "    p_valor = 1 - stats.norm.cdf(z)\n",
    "\n",
    "print(f\"Valor Z: {z}\")\n",
    "print(f\"Valor P: {p_valor}\")\n",
    "\n",
    "\n",
    "nivel_significancia = 0.05\n",
    "if p_valor < nivel_significancia:\n",
    "    print(f\"Rechazar la hipótesis nula (valor p < {nivel_significancia})\")\n",
    "else:\n",
    "    print(f\"No se puede rechazar la hipótesis nula (valor p >= {nivel_significancia})\")\n"
   ]
  },
  {
   "cell_type": "markdown",
   "metadata": {},
   "source": [
    "## PRUEBA DE HIPÓTESIS DE DOS COLAS"
   ]
  },
  {
   "cell_type": "code",
   "execution_count": 16,
   "metadata": {},
   "outputs": [
    {
     "name": "stdout",
     "output_type": "stream",
     "text": [
      "Valor Z: 1.5467960838455728\n",
      "Valor P: 0.12191242484818998\n",
      "No se puede rechazar la hipótesis nula (valor p >= 0.05)\n"
     ]
    }
   ],
   "source": [
    "import scipy.stats as stats\n",
    "import math\n",
    "\n",
    "media_muestral = 203.5\n",
    "media_poblacional = 200\n",
    "desviacion_estandar_poblacional = 16\n",
    "tamaño_muestra =50\n",
    "\n",
    "\n",
    "z = (media_muestral - media_poblacional) / (desviacion_estandar_poblacional / math.sqrt(tamaño_muestra))\n",
    "\n",
    "p_valor = 2 * (1 - stats.norm.cdf(abs(z)))\n",
    "\n",
    "print(f\"Valor Z: {z}\")\n",
    "print(f\"Valor P: {p_valor}\")\n",
    "\n",
    "nivel_significancia = 0.05\n",
    "if p_valor < nivel_significancia:\n",
    "    print(f\"Rechazar la hipótesis nula (valor p < {nivel_significancia})\")\n",
    "else:\n",
    "    print(f\"No se puede rechazar la hipótesis nula (valor p >= {nivel_significancia})\")\n"
   ]
  },
  {
   "cell_type": "markdown",
   "metadata": {},
   "source": [
    "# DESVIACIÓN DESCONOCIDA"
   ]
  },
  {
   "cell_type": "markdown",
   "metadata": {},
   "source": [
    "## PRUEBA DE HIPÓTESIS DE UNA COLA"
   ]
  },
  {
   "cell_type": "code",
   "execution_count": 1,
   "metadata": {},
   "outputs": [
    {
     "name": "stdout",
     "output_type": "stream",
     "text": [
      "Valor t: -1.1026\n",
      "Valor P: 0.1406\n",
      "No se puede rechazar la hipótesis nula (valor p >= 0.05)\n"
     ]
    }
   ],
   "source": [
    "import scipy.stats as stats\n",
    "import math\n",
    "\n",
    "# Ingresar los valores\n",
    "media_muestral = 37.4\n",
    "media_poblacional = 40\n",
    "desviacion_muestral = 11.79\n",
    "tamaño_muestra = 25\n",
    "\n",
    "# Calcular el estadístico t\n",
    "t = (media_muestral - media_poblacional) / (desviacion_muestral / math.sqrt(tamaño_muestra))\n",
    "\n",
    "# Calcular el valor p basado en la distribución t de Student\n",
    "if t < 0:\n",
    "    p_valor = stats.t.cdf(t, df=tamaño_muestra - 1)\n",
    "else:\n",
    "    p_valor = 1 - stats.t.cdf(t, df=tamaño_muestra - 1)\n",
    "\n",
    "print(f\"Valor t: {t:.4f}\")\n",
    "print(f\"Valor P: {p_valor:.4f}\")\n",
    "\n",
    "# Nivel de significancia\n",
    "nivel_significancia = 0.05\n",
    "\n",
    "# Decisión sobre la hipótesis nula\n",
    "if p_valor < nivel_significancia:\n",
    "    print(f\"Rechazar la hipótesis nula (valor p < {nivel_significancia})\")\n",
    "else:\n",
    "    print(f\"No se puede rechazar la hipótesis nula (valor p >= {nivel_significancia})\")\n"
   ]
  },
  {
   "cell_type": "markdown",
   "metadata": {},
   "source": [
    "### PRUEBA DE DOS COLAS"
   ]
  },
  {
   "cell_type": "code",
   "execution_count": 2,
   "metadata": {},
   "outputs": [
    {
     "name": "stdout",
     "output_type": "stream",
     "text": [
      "Valor t: -1.1026\n",
      "Valor P: 0.2811\n",
      "No se puede rechazar la hipótesis nula (valor p >= 0.05)\n"
     ]
    }
   ],
   "source": [
    "import scipy.stats as stats\n",
    "import math\n",
    "\n",
    "# Ingresar los valores\n",
    "media_muestral = 37.4\n",
    "media_poblacional = 40\n",
    "desviacion_muestral = 11.79\n",
    "tamaño_muestra = 25\n",
    "\n",
    "# Calcular el estadístico t\n",
    "t = (media_muestral - media_poblacional) / (desviacion_muestral / math.sqrt(tamaño_muestra))\n",
    "\n",
    "# Calcular el valor p para una prueba de dos colas\n",
    "p_valor = 2 * (1 - stats.t.cdf(abs(t), df=tamaño_muestra - 1))\n",
    "\n",
    "print(f\"Valor t: {t:.4f}\")\n",
    "print(f\"Valor P: {p_valor:.4f}\")\n",
    "\n",
    "# Nivel de significancia\n",
    "nivel_significancia = 0.05\n",
    "\n",
    "# Decisión sobre la hipótesis nula\n",
    "if p_valor < nivel_significancia:\n",
    "    print(f\"Rechazar la hipótesis nula (valor p < {nivel_significancia})\")\n",
    "else:\n",
    "    print(f\"No se puede rechazar la hipótesis nula (valor p >= {nivel_significancia})\")\n"
   ]
  }
 ],
 "metadata": {
  "kernelspec": {
   "display_name": "Python 3",
   "language": "python",
   "name": "python3"
  },
  "language_info": {
   "codemirror_mode": {
    "name": "ipython",
    "version": 3
   },
   "file_extension": ".py",
   "mimetype": "text/x-python",
   "name": "python",
   "nbconvert_exporter": "python",
   "pygments_lexer": "ipython3",
   "version": "3.12.5"
  }
 },
 "nbformat": 4,
 "nbformat_minor": 2
}
