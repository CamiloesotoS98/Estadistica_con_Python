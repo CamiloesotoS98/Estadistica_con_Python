{
  "cells": [
    {
      "cell_type": "markdown",
      "metadata": {
        "id": "YuaGjB4uYYoX"
      },
      "source": [
        "### LOCALIZACIÓN DE UN PERCENTIL"
      ]
    },
    {
      "cell_type": "code",
      "execution_count": 2,
      "metadata": {
        "id": "a6phIXafYtU3"
      },
      "outputs": [],
      "source": [
        "import numpy as np\n",
        "import pandas as pd\n",
        "import matplotlib.pyplot as plt\n",
        "import seaborn as sns"
      ]
    },
    {
      "cell_type": "code",
      "execution_count": null,
      "metadata": {
        "id": "bBmDLquNYX0H"
      },
      "outputs": [],
      "source": [
        "x=[2033,1758,1721,1637,2097,2047,2205,1787,2287,1940,2311,2054,2406,1471,1460] #Comisiones"
      ]
    },
    {
      "cell_type": "code",
      "execution_count": null,
      "metadata": {
        "colab": {
          "base_uri": "https://localhost:8080/"
        },
        "id": "odGazcCQrbVd",
        "outputId": "61f0d1bb-41c8-4e79-d903-91df718c5041"
      },
      "outputs": [
        {
          "name": "stdout",
          "output_type": "stream",
          "text": [
            "[1460, 1471, 1637, 1721, 1758, 1787, 1940, 2033, 2047, 2054, 2097, 2205, 2287, 2311, 2406]\n",
            "Ingrese el valor del percentil: 25\n",
            "El valor del percentil 25 es de 1739.5\n"
          ]
        }
      ],
      "source": [
        "#x=[1460,1471,1637,1721,1758,1787,1940,2038,2047,2054,2097,2205,2287,2311,2406]\n",
        "x=[2033,1758,1721,1637,2097,2047,2205,1787,2287,1940,2311,2054,2406,1471,1460] #Comisiones\n",
        "x = sorted(x) # Se ordena la lista de datos\n",
        "print(x)\n",
        "\n",
        "# Ingresar el valor del percentil\n",
        "P = int(input(f\"Ingrese el valor del percentil: \")) # Se indica el percentil a calcular\n",
        "\n",
        "# Calcular la posición\n",
        "Lp = (len(x) - 1) * (P / 100)\n",
        "k = int(Lp)\n",
        "d = Lp - k\n",
        "if Lp == int(Lp): # Si la posición toma un valor entero\n",
        "    valor = x[int(Lp)] # Se toma del conjunto de datos el valor de esa posición\n",
        "else: # Si no es un valor entero, realizar interpolación lineal\n",
        "    valor = x[k] + d * (x[k + 1] - x[k])\n",
        "print(f\"El valor del percentil {P} es de {round(valor, 3)}\")"
      ]
    },
    {
      "cell_type": "code",
      "execution_count": null,
      "metadata": {
        "colab": {
          "base_uri": "https://localhost:8080/"
        },
        "id": "nq3rDvTpppx7",
        "outputId": "d9785166-5362-4c2d-b465-c1f1903444d9"
      },
      "outputs": [
        {
          "name": "stdout",
          "output_type": "stream",
          "text": [
            "El valor del percentil 25 es de 1739.5\n"
          ]
        }
      ],
      "source": [
        "lp=np.percentile(x,P)\n",
        "\n",
        "print(f\"El valor del percentil {P} es de {round(lp, 3)}\")"
      ]
    },
    {
      "cell_type": "markdown",
      "metadata": {
        "id": "oTWVRtC1QAk-"
      },
      "source": [
        "### RANGO INTERCUARTIL"
      ]
    },
    {
      "cell_type": "code",
      "execution_count": 5,
      "metadata": {
        "colab": {
          "base_uri": "https://localhost:8080/"
        },
        "id": "ioKNc6reQHLl",
        "outputId": "eec6101f-d283-41bf-b280-48447ef9d7f2"
      },
      "outputs": [
        {
          "name": "stdout",
          "output_type": "stream",
          "text": [
            "[170, 236, 316, 384, 825, 991, 1333, 1351, 1428, 1584, 1688, 1710, 3396, 4135, 7450]\n",
            "1094.5\n",
            "Limite inferior de valor atípico -1037.25\n",
            "Limite superior de valor atípico 3340.75\n"
          ]
        }
      ],
      "source": [
        "x=[236,1710,1351,825,7450,316,4135,1333,1584,384,991,3396,170,1428,1688]\n",
        "x = sorted(x) # Se ordena la lista de datos\n",
        "print(x)\n",
        "\n",
        "q1=np.percentile(x,25)\n",
        "q3=np.percentile(x,75)\n",
        "iqr=q3-q1\n",
        "print(iqr)\n",
        "\n",
        "xinf=q1-(1.5*iqr)\n",
        "xsup=q3+(1.5*iqr)\n",
        "print(f'Limite inferior de valor atípico {xinf}')\n",
        "print(f'Limite superior de valor atípico {xsup}')\n"
      ]
    },
    {
      "cell_type": "code",
      "execution_count": 6,
      "metadata": {
        "colab": {
          "base_uri": "https://localhost:8080/",
          "height": 678
        },
        "id": "M319dnY1Q7qc",
        "outputId": "3cca0525-c25f-45cd-c1f6-23f67a6a1911"
      },
      "outputs": [
        {
          "name": "stderr",
          "output_type": "stream",
          "text": [
            "C:\\Users\\USUARIO\\AppData\\Local\\Temp\\ipykernel_2164\\1300668259.py:4: FutureWarning: \n",
            "\n",
            "Passing `palette` without assigning `hue` is deprecated and will be removed in v0.14.0. Assign the `y` variable to `hue` and set `legend=False` for the same effect.\n",
            "\n",
            "  sns.boxplot(data=x, orient='h', palette='pastel')\n"
          ]
        },
        {
          "data": {
            "image/png": "[encoded data removed]",
            "text/plain": [
              "<Figure size 1000x600 with 1 Axes>"
            ]
          },
          "metadata": {},
          "output_type": "display_data"
        }
      ],
      "source": [
        "# Crear una figura y un eje\n",
        "plt.figure(figsize=(10, 6))\n",
        "# Crear el boxplot\n",
        "sns.boxplot(data=x, orient='h', palette='pastel')\n",
        "# Personalizar el gráfico\n",
        "plt.title('Boxplot de Comisiones', fontsize=16)\n",
        "plt.xlabel('Valor', fontsize=14)\n",
        "plt.grid(True, linestyle='--', alpha=0.7)\n",
        "\n",
        "# Mostrar el gráfico\n",
        "plt.show()"
      ]
    },
    {
      "cell_type": "code",
      "execution_count": null,
      "metadata": {
        "id": "0BsBQpV_U3Rv"
      },
      "outputs": [],
      "source": [
        "import seaborn as sns\n",
        "y=[\"1\",\"1\",\"1\",\"1\",\"1\",\"2\",\"2\",\"2\",\"2\",\"2\",\n",
        "\"3\",\"3\",\"3\",\"3\",\"3\",\"4\",\"4\",\"4\",\"4\",\"4\",\n",
        "\"5\",\"5\",\"5\",\"5\",\"5\"]\n",
        "x=[5.9,6.1,6.3,6.1,6,6.3,6.6,6.4,6.4,6.5,4.8,4.3,5,4.7,5.1,6,6.2,6.1,5.8]"
      ]
    },
    {
      "cell_type": "code",
      "execution_count": null,
      "metadata": {
        "colab": {
          "base_uri": "https://localhost:8080/",
          "height": 480
        },
        "id": "Y4kYU9SbVZlf",
        "outputId": "5812c95e-ee00-4122-e2a5-a6dd1f732f52"
      },
      "outputs": [
        {
          "data": {
            "text/plain": [
              "<Figure size 1000x600 with 0 Axes>"
            ]
          },
          "metadata": {},
          "output_type": "display_data"
        },
        {
          "data": {
            "image/png": "[encoded data removed]",
            "text/plain": [
              "<Figure size 640x480 with 1 Axes>"
            ]
          },
          "metadata": {},
          "output_type": "display_data"
        }
      ],
      "source": [
        "df = pd.DataFrame({\"Category\": y[:len(x)], \"Value\": x})\n",
        "# Crear el boxplot\n",
        "plt.figure(figsize=(10, 6))\n",
        "df.boxplot(column=\"Value\", by=\"Category\")\n",
        "plt.title(\"Boxplot de los valores por categoría\")\n",
        "plt.suptitle(\"\")\n",
        "plt.xlabel(\"Categoría\")\n",
        "plt.ylabel(\"Valor\")\n",
        "plt.show()"
      ]
    },
    {
      "cell_type": "markdown",
      "metadata": {},
      "source": [
        "### ACTIVIDAD DE CLASE 3"
      ]
    },
    {
      "cell_type": "code",
      "execution_count": 19,
      "metadata": {},
      "outputs": [
        {
          "name": "stdout",
          "output_type": "stream",
          "text": [
            "Cuartil 1 (Q1): 604.5\n",
            "Cuartil 3 (Q3): 1699.0\n",
            "IQR: 1094.5\n",
            "Límite inferior de valor atípico: -1037.25\n",
            "Límite superior de valor atípico: 3340.75\n",
            "Valor máximo no atípico: 170\n",
            "Valor máximo no atípico: 1710\n"
          ]
        }
      ],
      "source": [
        "import numpy as np\n",
        "\n",
        "x = [170, 236, 316, 384, 825, 991, 1333, 1351, 1428, 1584, 1688, 1710, 3396, 4135, 7450]\n",
        "\n",
        "# Calcular los cuartiles y el rango intercuartílico (IQR)\n",
        "q1 = np.percentile(x, 25)\n",
        "q3 = np.percentile(x, 75)\n",
        "iqr = q3 - q1\n",
        "\n",
        "# Calcular los límites para identificar valores atípicos\n",
        "xinf = q1 - (1.5 * iqr)\n",
        "xsup = q3 + (1.5 * iqr)\n",
        "\n",
        "# Encontrar el valor máximo que no sea un valor atípico\n",
        "min_non_outlier = min([i for i in x if i >= xinf])\n",
        "max_non_outlier = max([i for i in x if i <= xsup])\n",
        "print(f'Cuartil 1 (Q1): {q1}')\n",
        "print(f'Cuartil 3 (Q3): {q3}')\n",
        "print(f'IQR: {iqr}')\n",
        "print(f'Límite inferior de valor atípico: {xinf}')\n",
        "print(f'Límite superior de valor atípico: {xsup}')\n",
        "print(f'Valor máximo no atípico: {min_non_outlier}')\n",
        "print(f'Valor máximo no atípico: {max_non_outlier}')"
      ]
    }
  ],
  "metadata": {
    "colab": {
      "provenance": []
    },
    "kernelspec": {
      "display_name": "Python 3",
      "name": "python3"
    },
    "language_info": {
      "codemirror_mode": {
        "name": "ipython",
        "version": 3
      },
      "file_extension": ".py",
      "mimetype": "text/x-python",
      "name": "python",
      "nbconvert_exporter": "python",
      "pygments_lexer": "ipython3",
      "version": "3.12.3"
    }
  },
  "nbformat": 4,
  "nbformat_minor": 0
}
