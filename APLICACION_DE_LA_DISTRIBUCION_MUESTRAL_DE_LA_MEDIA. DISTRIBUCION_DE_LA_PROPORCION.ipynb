{
 "cells": [
  {
   "cell_type": "code",
   "execution_count": 1,
   "metadata": {},
   "outputs": [],
   "source": [
    "import scipy.stats as stats"
   ]
  },
  {
   "cell_type": "code",
   "execution_count": 3,
   "metadata": {},
   "outputs": [
    {
     "name": "stdout",
     "output_type": "stream",
     "text": [
      "Valor de z: 1.80\n",
      "Probabilidad de obtener un valor mayor que 1.80: 0.0359\n"
     ]
    }
   ],
   "source": [
    "# Datos\n",
    "X_bar = 31.38 #media muestral\n",
    "mu = 31.2 # media\n",
    "sigma = 0.4 #desviación estándar de la población\n",
    "n = 16 # muestra\n",
    "\n",
    "# Cálculo del valor z\n",
    "z = (X_bar - mu) / (sigma / (n ** 0.5))\n",
    "print(f\"Valor de z: {z:.2f}\")\n",
    "\n",
    "# Cálculo de la probabilidad de obtener un valor mayor que z\n",
    "probabilidad_mayor = 1 - stats.norm.cdf(z)\n",
    "print(f\"Probabilidad de obtener un valor mayor que {z:.2f}: {probabilidad_mayor:.4f}\")\n"
   ]
  },
  {
   "cell_type": "code",
   "execution_count": 4,
   "metadata": {},
   "outputs": [
    {
     "name": "stdout",
     "output_type": "stream",
     "text": [
      "Valor de z: 0.75\n",
      "Probabilidad de obtener un valor mayor que 0.75: 0.2266\n"
     ]
    }
   ],
   "source": [
    "#Ejemplo 1\n",
    "\n",
    "X_bar = 63 #media muestral\n",
    "mu = 60 # media\n",
    "sigma =12 #desviación estándar de la población\n",
    "n = 9 # muestra\n",
    "\n",
    "# Cálculo del valor z\n",
    "z = (X_bar - mu) / (sigma / (n ** 0.5))\n",
    "print(f\"Valor de z: {z:.2f}\")\n",
    "# Cálculo de la probabilidad de obtener un valor mayor que z\n",
    "probabilidad_mayor = 1 - stats.norm.cdf(z)\n",
    "print(f\"Probabilidad de obtener un valor mayor que {z:.2f}: {probabilidad_mayor:.4f}\")\n"
   ]
  },
  {
   "cell_type": "code",
   "execution_count": 6,
   "metadata": {},
   "outputs": [
    {
     "name": "stdout",
     "output_type": "stream",
     "text": [
      "Valor de z: -1.00\n",
      "Probabilidad de obtener un valor mayor que -1.00: 0.1587\n"
     ]
    }
   ],
   "source": [
    "X_bar = 56 #media muestral\n",
    "mu = 60 # media\n",
    "sigma =12 #desviación estándar de la población\n",
    "n = 9 # muestra\n",
    "\n",
    "# Cálculo del valor z\n",
    "z = (X_bar - mu) / (sigma / (n ** 0.5))\n",
    "print(f\"Valor de z: {z:.2f}\")\n",
    "# Cálculo de la probabilidad de obtener un valor mayor que z\n",
    "probabilidad_acumulada= stats.norm.cdf(z)\n",
    "print(f\"Probabilidad de obtener un valor mayor que {z:.2f}: {probabilidad_acumulada:.4f}\")"
   ]
  },
  {
   "cell_type": "code",
   "execution_count": 7,
   "metadata": {},
   "outputs": [
    {
     "name": "stdout",
     "output_type": "stream",
     "text": [
      "La probabilidad acumulada (CDF) para x = 56 es: 0.1587\n",
      "La probabilidad acumulada (CDF) para x = 63 es: 0.7734\n",
      "La probabilidad de que x este entre 56 y 63 es: 0.6147\n"
     ]
    }
   ],
   "source": [
    "mu = 60 # media\n",
    "sigma =12 #desviación estándar de la población\n",
    "n = 9 # muestra\n",
    "X_bar_1 = 56\n",
    "X_bar_2 = 63\n",
    "\n",
    "z_1 = (X_bar_1 - mu) / (sigma / (n ** 0.5))\n",
    "z_2 = (X_bar_2 - mu) / (sigma / (n ** 0.5))\n",
    "\n",
    "probabilidad_acumulada1 = stats.norm.cdf(z_1)\n",
    "probabilidad_acumulada2 = stats.norm.cdf(z_2)\n",
    "probabilidad_acumulada_diferencia=probabilidad_acumulada2-probabilidad_acumulada1\n",
    "print(f\"La probabilidad acumulada (CDF) para x = {X_bar_1} es: {probabilidad_acumulada1:.4f}\")\n",
    "print(f\"La probabilidad acumulada (CDF) para x = {X_bar_2} es: {probabilidad_acumulada2:.4f}\")\n",
    "print(f\"La probabilidad de que x este entre {X_bar_1} y {X_bar_2} es: {probabilidad_acumulada_diferencia:.4f}\")"
   ]
  }
 ],
 "metadata": {
  "kernelspec": {
   "display_name": "Python 3",
   "language": "python",
   "name": "python3"
  },
  "language_info": {
   "codemirror_mode": {
    "name": "ipython",
    "version": 3
   },
   "file_extension": ".py",
   "mimetype": "text/x-python",
   "name": "python",
   "nbconvert_exporter": "python",
   "pygments_lexer": "ipython3",
   "version": "3.12.3"
  }
 },
 "nbformat": 4,
 "nbformat_minor": 2
}
