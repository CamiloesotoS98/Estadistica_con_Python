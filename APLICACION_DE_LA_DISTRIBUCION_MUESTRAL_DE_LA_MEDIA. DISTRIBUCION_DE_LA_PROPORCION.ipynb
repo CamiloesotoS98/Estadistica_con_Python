{
 "cells": [
  {
   "cell_type": "code",
   "execution_count": 2,
   "metadata": {},
   "outputs": [],
   "source": [
    "import scipy.stats as stats"
   ]
  },
  {
   "cell_type": "markdown",
   "metadata": {},
   "source": [
    "# DISTRIBUCIÓN MUESTRAL DE LA MEDIA "
   ]
  },
  {
   "cell_type": "code",
   "execution_count": 3,
   "metadata": {},
   "outputs": [
    {
     "name": "stdout",
     "output_type": "stream",
     "text": [
      "Valor de z: 1.80\n",
      "Probabilidad de obtener un valor mayor que 1.80: 0.0359\n"
     ]
    }
   ],
   "source": [
    "# Datos\n",
    "X_bar = 31.38 #media muestral\n",
    "mu = 31.2 # media\n",
    "sigma = 0.4 #desviación estándar de la población\n",
    "n = 16 # muestra\n",
    "\n",
    "# Cálculo del valor z\n",
    "z = (X_bar - mu) / (sigma / (n ** 0.5))\n",
    "print(f\"Valor de z: {z:.2f}\")\n",
    "\n",
    "# Cálculo de la probabilidad de obtener un valor mayor que z\n",
    "probabilidad_mayor = 1 - stats.norm.cdf(z)\n",
    "print(f\"Probabilidad de obtener un valor mayor que {z:.2f}: {probabilidad_mayor:.4f}\")\n"
   ]
  },
  {
   "cell_type": "code",
   "execution_count": 4,
   "metadata": {},
   "outputs": [
    {
     "name": "stdout",
     "output_type": "stream",
     "text": [
      "Valor de z: 0.75\n",
      "Probabilidad de obtener un valor mayor que 0.75: 0.2266\n"
     ]
    }
   ],
   "source": [
    "#Ejemplo 1\n",
    "\n",
    "X_bar = 63 #media muestral\n",
    "mu = 60 # media\n",
    "sigma =12 #desviación estándar de la población\n",
    "n = 9 # muestra\n",
    "\n",
    "# Cálculo del valor z\n",
    "z = (X_bar - mu) / (sigma / (n ** 0.5))\n",
    "print(f\"Valor de z: {z:.2f}\")\n",
    "# Cálculo de la probabilidad de obtener un valor mayor que z\n",
    "probabilidad_mayor = 1 - stats.norm.cdf(z)\n",
    "print(f\"Probabilidad de obtener un valor mayor que {z:.2f}: {probabilidad_mayor:.4f}\")\n"
   ]
  },
  {
   "cell_type": "code",
   "execution_count": 6,
   "metadata": {},
   "outputs": [
    {
     "name": "stdout",
     "output_type": "stream",
     "text": [
      "Valor de z: -1.00\n",
      "Probabilidad de obtener un valor mayor que -1.00: 0.1587\n"
     ]
    }
   ],
   "source": [
    "X_bar = 56 #media muestral\n",
    "mu = 60 # media\n",
    "sigma =12 #desviación estándar de la población\n",
    "n = 9 # muestra\n",
    "\n",
    "# Cálculo del valor z\n",
    "z = (X_bar - mu) / (sigma / (n ** 0.5))\n",
    "print(f\"Valor de z: {z:.2f}\")\n",
    "# Cálculo de la probabilidad de obtener un valor mayor que z\n",
    "probabilidad_acumulada= stats.norm.cdf(z)\n",
    "print(f\"Probabilidad de obtener un valor mayor que {z:.2f}: {probabilidad_acumulada:.4f}\")"
   ]
  },
  {
   "cell_type": "code",
   "execution_count": 7,
   "metadata": {},
   "outputs": [
    {
     "name": "stdout",
     "output_type": "stream",
     "text": [
      "La probabilidad acumulada (CDF) para x = 56 es: 0.1587\n",
      "La probabilidad acumulada (CDF) para x = 63 es: 0.7734\n",
      "La probabilidad de que x este entre 56 y 63 es: 0.6147\n"
     ]
    }
   ],
   "source": [
    "mu = 60 # media\n",
    "sigma =12 #desviación estándar de la población\n",
    "n = 9 # muestra\n",
    "X_bar_1 = 56\n",
    "X_bar_2 = 63\n",
    "\n",
    "z_1 = (X_bar_1 - mu) / (sigma / (n ** 0.5))\n",
    "z_2 = (X_bar_2 - mu) / (sigma / (n ** 0.5))\n",
    "\n",
    "probabilidad_acumulada1 = stats.norm.cdf(z_1)\n",
    "probabilidad_acumulada2 = stats.norm.cdf(z_2)\n",
    "probabilidad_acumulada_diferencia=probabilidad_acumulada2-probabilidad_acumulada1\n",
    "print(f\"La probabilidad acumulada (CDF) para x = {X_bar_1} es: {probabilidad_acumulada1:.4f}\")\n",
    "print(f\"La probabilidad acumulada (CDF) para x = {X_bar_2} es: {probabilidad_acumulada2:.4f}\")\n",
    "print(f\"La probabilidad de que x este entre {X_bar_1} y {X_bar_2} es: {probabilidad_acumulada_diferencia:.4f}\")"
   ]
  },
  {
   "cell_type": "markdown",
   "metadata": {},
   "source": [
    "# DISTRIBUCIÓN MUESTRAL DE LA PROPORCIÓN"
   ]
  },
  {
   "cell_type": "code",
   "execution_count": 5,
   "metadata": {},
   "outputs": [
    {
     "name": "stdout",
     "output_type": "stream",
     "text": [
      "La probabilidad acumulada (CDF) para x = 0.55 es: 0.2880\n",
      "La probabilidad acumulada (CDF) para x = 0.65 es: 0.7120\n",
      "La probabilidad de que x este entre 0.55 y 0.65 es: 0.4240\n"
     ]
    }
   ],
   "source": [
    "p = 0.60 # Proporción poblacional\n",
    "sigma =0.0894 #desviación estándar de la población\n",
    "n = 30 # muestra\n",
    "p_bar_1 = 0.55\n",
    "p_bar_2 = 0.65\n",
    "\n",
    "z_1 = (p_bar_1 - p) / (sigma)\n",
    "z_2 = (p_bar_2 - p) / (sigma)\n",
    "\n",
    "probabilidad_acumulada1 = stats.norm.cdf(z_1)\n",
    "probabilidad_acumulada2 = stats.norm.cdf(z_2)\n",
    "probabilidad_acumulada_diferencia=probabilidad_acumulada2-probabilidad_acumulada1\n",
    "print(f\"La probabilidad acumulada (CDF) para x = {p_bar_1} es: {probabilidad_acumulada1:.4f}\")\n",
    "print(f\"La probabilidad acumulada (CDF) para x = {p_bar_2} es: {probabilidad_acumulada2:.4f}\")\n",
    "print(f\"La probabilidad de que x este entre {p_bar_1} y {p_bar_2} es: {probabilidad_acumulada_diferencia:.4f}\")"
   ]
  },
  {
   "cell_type": "code",
   "execution_count": 7,
   "metadata": {},
   "outputs": [
    {
     "name": "stdout",
     "output_type": "stream",
     "text": [
      "La probabilidad acumulada (CDF) para x = 0.37 es: 0.1930\n",
      "La probabilidad acumulada (CDF) para x = 0.43 es: 0.8070\n",
      "La probabilidad de que x este entre 0.37 y 0.43 es: 0.6141\n"
     ]
    }
   ],
   "source": [
    "p = 0.40 # Proporción poblacional\n",
    "sigma =0.0346 #desviación estándar de la población\n",
    "n = 30 # muestra\n",
    "p_bar_1 = 0.37\n",
    "p_bar_2 = 0.43\n",
    "\n",
    "z_1 = (p_bar_1 - p) / (sigma)\n",
    "z_2 = (p_bar_2 - p) / (sigma)\n",
    "\n",
    "probabilidad_acumulada1 = stats.norm.cdf(z_1)\n",
    "probabilidad_acumulada2 = stats.norm.cdf(z_2)\n",
    "probabilidad_acumulada_diferencia=probabilidad_acumulada2-probabilidad_acumulada1\n",
    "print(f\"La probabilidad acumulada (CDF) para x = {p_bar_1} es: {probabilidad_acumulada1:.4f}\")\n",
    "print(f\"La probabilidad acumulada (CDF) para x = {p_bar_2} es: {probabilidad_acumulada2:.4f}\")\n",
    "print(f\"La probabilidad de que x este entre {p_bar_1} y {p_bar_2} es: {probabilidad_acumulada_diferencia:.4f}\")"
   ]
  },
  {
   "cell_type": "code",
   "execution_count": 23,
   "metadata": {},
   "outputs": [
    {
     "name": "stdout",
     "output_type": "stream",
     "text": [
      "La probabilidad acumulada (CDF) para x = 0.2 es: 0.0145\n",
      "La probabilidad acumulada (CDF) para x = 0.4 es: 0.9855\n",
      "La probabilidad de que x este entre 0.2 y 0.4 es: 0.9710\n"
     ]
    }
   ],
   "source": [
    "p = 0.30 # Proporción poblacional\n",
    "sigma =0.0458 #desviación estándar de la población\n",
    "n = 100 # muestra\n",
    "p_bar_1 = 0.20\n",
    "p_bar_2 = 0.40\n",
    "\n",
    "z_1 = (p_bar_1 - p) / (sigma)\n",
    "z_2 = (p_bar_2 - p) / (sigma)\n",
    "\n",
    "probabilidad_acumulada1 = stats.norm.cdf(z_1)\n",
    "probabilidad_acumulada2 = stats.norm.cdf(z_2)\n",
    "probabilidad_acumulada_diferencia=probabilidad_acumulada2-probabilidad_acumulada1\n",
    "print(f\"La probabilidad acumulada (CDF) para x = {p_bar_1} es: {probabilidad_acumulada1:.4f}\")\n",
    "print(f\"La probabilidad acumulada (CDF) para x = {p_bar_2} es: {probabilidad_acumulada2:.4f}\")\n",
    "print(f\"La probabilidad de que x este entre {p_bar_1} y {p_bar_2} es: {probabilidad_acumulada_diferencia:.4f}\")"
   ]
  },
  {
   "cell_type": "code",
   "execution_count": 45,
   "metadata": {},
   "outputs": [
    {
     "data": {
      "image/png": "[encoded data removed]",
      "text/plain": [
       "<Figure size 1000x600 with 1 Axes>"
      ]
     },
     "metadata": {},
     "output_type": "display_data"
    }
   ],
   "source": [
    "import numpy as np\n",
    "import matplotlib.pyplot as plt\n",
    "import seaborn as sns\n",
    "\n",
    "proporcion = 0.30 \n",
    "desviacion_estandar = 0.0458  \n",
    "\n",
    "data = np.random.normal(loc=proporcion, scale=desviacion_estandar, size=1000)\n",
    "sns.set(style=\"whitegrid\")\n",
    "\n",
    "plt.figure(figsize=(10, 6))\n",
    "sns.histplot(data, kde=True, bins=30, color='blue')\n",
    "\n",
    "plt.title(f'Distribución Muestral de la Propoción = {proporcion} y desviación estándar = {desviacion_estandar}')\n",
    "plt.xlabel('Valor')\n",
    "plt.ylabel('Frecuencia')\n",
    "\n",
    "plt.show()\n"
   ]
  }
 ],
 "metadata": {
  "kernelspec": {
   "display_name": "Python 3",
   "language": "python",
   "name": "python3"
  },
  "language_info": {
   "codemirror_mode": {
    "name": "ipython",
    "version": 3
   },
   "file_extension": ".py",
   "mimetype": "text/x-python",
   "name": "python",
   "nbconvert_exporter": "python",
   "pygments_lexer": "ipython3",
   "version": "3.12.3"
  }
 },
 "nbformat": 4,
 "nbformat_minor": 2
}
