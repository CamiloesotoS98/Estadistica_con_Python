{
 "cells": [
  {
   "cell_type": "code",
   "execution_count": 10,
   "metadata": {},
   "outputs": [
    {
     "name": "stdout",
     "output_type": "stream",
     "text": [
      "El valor de la combinación para un total de 10 objetos de los cuales se seleccionaron 2 es de 45\n"
     ]
    }
   ],
   "source": [
    "import math\n",
    "N = 10\n",
    "n = 2\n",
    "combinaciones = math.comb(N, n)\n",
    "print(f'El valor de la combinación para un total de {N} objetos de los cuales se seleccionaron {n} es de {combinaciones}')"
   ]
  },
  {
   "cell_type": "code",
   "execution_count": 8,
   "metadata": {},
   "outputs": [
    {
     "name": "stdout",
     "output_type": "stream",
     "text": [
      "El valor de la permutacion para un total de 10 objetos de los cuales se seleccionaron 4 es de 5040\n"
     ]
    }
   ],
   "source": [
    "import math\n",
    "N = 10\n",
    "n = 4\n",
    "permutaciones = math.perm(N, n)\n",
    "print(f'El valor de la permutacion para un total de {N} objetos de los cuales se seleccionaron {n} es de {permutaciones}')"
   ]
  }
 ],
 "metadata": {
  "kernelspec": {
   "display_name": "Python 3",
   "language": "python",
   "name": "python3"
  },
  "language_info": {
   "codemirror_mode": {
    "name": "ipython",
    "version": 3
   },
   "file_extension": ".py",
   "mimetype": "text/x-python",
   "name": "python",
   "nbconvert_exporter": "python",
   "pygments_lexer": "ipython3",
   "version": "3.12.3"
  }
 },
 "nbformat": 4,
 "nbformat_minor": 2
}
