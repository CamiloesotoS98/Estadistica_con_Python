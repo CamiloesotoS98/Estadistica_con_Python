{
 "cells": [
  {
   "cell_type": "code",
   "execution_count": 3,
   "metadata": {},
   "outputs": [],
   "source": [
    "import scipy.stats as stats"
   ]
  },
  {
   "cell_type": "markdown",
   "metadata": {},
   "source": [
    "# DISTRIBUCIÓN UNIFORME"
   ]
  },
  {
   "cell_type": "code",
   "execution_count": 5,
   "metadata": {},
   "outputs": [
    {
     "name": "stdout",
     "output_type": "stream",
     "text": [
      "La probabilidad de que el tiempo de vuelo esté entre 120 y 130 minutos es: 0.5000\n"
     ]
    }
   ],
   "source": [
    "a = 120\n",
    "b = 140\n",
    "valor_inferior = 120\n",
    "valor_superior = 130\n",
    "probabilidad_intervalo = stats.uniform.cdf(valor_superior, loc=a, scale=b-a) - stats.uniform.cdf(valor_inferior, loc=a, scale=b-a)\n",
    "print(f\"La probabilidad de que el tiempo de vuelo esté entre {valor_inferior} y {valor_superior} minutos es: {probabilidad_intervalo:.4f}\")"
   ]
  },
  {
   "cell_type": "code",
   "execution_count": 6,
   "metadata": {},
   "outputs": [
    {
     "name": "stdout",
     "output_type": "stream",
     "text": [
      "El valor de la media es de 130.0 y de la desviación estándar de 5.773502691896258\n"
     ]
    }
   ],
   "source": [
    "media=(a+b)/2\n",
    "desviacion=(((b-a)**2)/12)**(1/2)\n",
    "print(f'El valor de la media es de {media} y de la desviación estándar de {desviacion}')"
   ]
  },
  {
   "cell_type": "markdown",
   "metadata": {},
   "source": [
    "# DISTRIBUCIÓN NORMAL ESTÁNDAR "
   ]
  },
  {
   "cell_type": "code",
   "execution_count": 16,
   "metadata": {},
   "outputs": [
    {
     "name": "stdout",
     "output_type": "stream",
     "text": [
      "La probabilidad acumulada (CDF) para x = 118 es: 0.9032\n"
     ]
    }
   ],
   "source": [
    "media = 105\n",
    "desviacion = 10\n",
    "valor = 118\n",
    "probabilidad_acumulada = stats.norm.cdf(valor, loc=media, scale=desviacion)\n",
    "print(f\"La probabilidad acumulada (CDF) para x = {valor} es: {probabilidad_acumulada:.4f}\")\n"
   ]
  },
  {
   "cell_type": "code",
   "execution_count": 5,
   "metadata": {},
   "outputs": [
    {
     "name": "stdout",
     "output_type": "stream",
     "text": [
      "\n",
      "Para una distribución normal con media 105 y desviación estándar 10:\n",
      "La probabilidad acumulada (CDF) para x = 110 es: 0.6915\n",
      "La probabilidad de que x sea mayor que 110 es: 0.3085\n"
     ]
    }
   ],
   "source": [
    "media = 105\n",
    "desviacion = 10\n",
    "valor = 110\n",
    "probabilidad_acumulada = stats.norm.cdf(valor, loc=media, scale=desviacion)\n",
    "probabilidad_mayor = 1 - probabilidad_acumulada\n",
    "print(f\"La probabilidad de que x sea mayor que {valor} es: {probabilidad_mayor:.4f}\")\n",
    "\n"
   ]
  },
  {
   "cell_type": "code",
   "execution_count": 14,
   "metadata": {},
   "outputs": [
    {
     "name": "stdout",
     "output_type": "stream",
     "text": [
      "La probabilidad acumulada (CDF) para x = 95 es: 0.1587\n",
      "La probabilidad acumulada (CDF) para x = 120 es: 0.9332\n",
      "La probabilidad de que x este entre 95 y 120 es: 0.7745\n"
     ]
    }
   ],
   "source": [
    "media = 105\n",
    "desviacion = 10\n",
    "valorinferior = 95\n",
    "valorsuperior = 120\n",
    "probabilidad_acumulada1 = stats.norm.cdf(valorinferior, loc=media, scale=desviacion)\n",
    "probabilidad_acumulada2 = stats.norm.cdf(valorsuperior, loc=media, scale=desviacion)\n",
    "probabilidad_acumulada_diferencia=probabilidad_acumulada2-probabilidad_acumulada1\n",
    "print(f\"La probabilidad acumulada (CDF) para x = {valorinferior} es: {probabilidad_acumulada1:.4f}\")\n",
    "print(f\"La probabilidad acumulada (CDF) para x = {valorsuperior} es: {probabilidad_acumulada2:.4f}\")\n",
    "print(f\"La probabilidad de que x este entre {valorinferior} y {valorsuperior} es: {probabilidad_acumulada_diferencia:.4f}\")"
   ]
  }
 ],
 "metadata": {
  "kernelspec": {
   "display_name": "Python 3",
   "language": "python",
   "name": "python3"
  },
  "language_info": {
   "codemirror_mode": {
    "name": "ipython",
    "version": 3
   },
   "file_extension": ".py",
   "mimetype": "text/x-python",
   "name": "python",
   "nbconvert_exporter": "python",
   "pygments_lexer": "ipython3",
   "version": "3.12.3"
  }
 },
 "nbformat": 4,
 "nbformat_minor": 2
}
