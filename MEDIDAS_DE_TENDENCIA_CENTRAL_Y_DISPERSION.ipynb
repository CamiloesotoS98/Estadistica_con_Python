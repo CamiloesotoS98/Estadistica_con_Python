{
  "cells": [
    {
      "cell_type": "code",
      "execution_count": 2,
      "metadata": {
        "id": "NRISYN0ksfZw"
      },
      "outputs": [],
      "source": [
        "from statistics import mean, median, mode, variance\n",
        "import matplotlib.pyplot as plt\n",
        "import pandas as pd\n",
        "import numpy as np\n",
        "\n",
        "# Registro del número de horas que una persona durmió la última semana\n",
        "dias=['Lunes','Martes','Miercoles','Jueves','Viernes','Sabado','Domingo']\n",
        "escenario_1=[8.1,7.3,7.7,7.5,7.8,7.2,7.9]\n",
        "\n",
        "# La media aritmética se desplaza por valores atípicos (outliers)\n",
        "escenario_2=[8.1,7.3,7.7,7.5,7.8,7.2,50]\n",
        "escenario_3=[8.1,7.3,7.7,7.5,7.8,7.2,1]\n",
        "\n"
      ]
    },
    {
      "cell_type": "markdown",
      "metadata": {
        "id": "75DSreIQUv-9"
      },
      "source": [
        "# MEDIDAS DE TENDENCIA CENTRAL"
      ]
    },
    {
      "cell_type": "markdown",
      "metadata": {
        "id": "gJlcP-7q-zbP"
      },
      "source": [
        "### Media  Aritmética"
      ]
    },
    {
      "cell_type": "code",
      "execution_count": 3,
      "metadata": {
        "colab": {
          "base_uri": "https://localhost:8080/"
        },
        "id": "74BQimKZ-yXI",
        "outputId": "a4cf563f-5bdb-4b5d-a9c0-908b186c5443"
      },
      "outputs": [
        {
          "name": "stdout",
          "output_type": "stream",
          "text": [
            "El promedio de horas dormidas fue de 7.64\n",
            "El promedio de horas dormidas fue de 13.66\n",
            "El promedio de horas dormidas fue de 6.66\n"
          ]
        }
      ],
      "source": [
        "mean_escenario_1=mean(escenario_1)\n",
        "print(f'El promedio de horas dormidas fue de {round(mean_escenario_1,2)}')\n",
        "mean_escenario_2=mean(escenario_2)\n",
        "print(f'El promedio de horas dormidas fue de {round(mean_escenario_2,2)}')\n",
        "mean_escenario_3=mean(escenario_3)\n",
        "print(f'El promedio de horas dormidas fue de {round(mean_escenario_3,2)}')"
      ]
    },
    {
      "cell_type": "markdown",
      "metadata": {
        "id": "g9ydKy1S-3EP"
      },
      "source": [
        "### Mediana"
      ]
    },
    {
      "cell_type": "code",
      "execution_count": 4,
      "metadata": {
        "colab": {
          "base_uri": "https://localhost:8080/"
        },
        "id": "vyZxzUA1-4-n",
        "outputId": "935640de-fc0a-4acd-f43f-1a4dae844567"
      },
      "outputs": [
        {
          "name": "stdout",
          "output_type": "stream",
          "text": [
            "La mediana de los pesos de las bolsas fue de 10.95\n"
          ]
        }
      ],
      "source": [
        "pesos=[10.71,11.18,10.98,11.04,10.91,10.56,11.42,10.80,11.12,10.86]\n",
        "mediana_pesos=median(pesos)\n",
        "print(f'La mediana de los pesos de las bolsas fue de {round(mediana_pesos,2)}')"
      ]
    },
    {
      "cell_type": "markdown",
      "metadata": {
        "id": "jyUJYcLYqWng"
      },
      "source": [
        "### Moda"
      ]
    },
    {
      "cell_type": "code",
      "execution_count": 5,
      "metadata": {
        "colab": {
          "base_uri": "https://localhost:8080/"
        },
        "id": "wZOKQeG2qYbI",
        "outputId": "91c97690-37af-49a9-c77d-4120b5b940a8"
      },
      "outputs": [
        {
          "name": "stdout",
          "output_type": "stream",
          "text": [
            "Tabla de frecuencias:\n",
            "    Valor  Frecuencia\n",
            "0  3780.5           2\n",
            "1  3775.2           2\n",
            "2  3768.8           1\n",
            "3  3773.1           1\n",
            "4  3765.6           1\n",
            "5  3770.9           1\n",
            "6  3776.7           1\n",
            "7  3772.4           1\n",
            "8  3769.3           1\n",
            "9  3774.5           1\n"
          ]
        }
      ],
      "source": [
        "conversion_dolar_peso_colombiano = [3780.5, 3780.5, 3775.20, 3775.20, 3768.80, 3773.10, 3765.60, 3770.90, 3776.70, 3772.40, 3769.30, 3774.50]\n",
        "frequency_table = pd.DataFrame(pd.Series(conversion_dolar_peso_colombiano).value_counts()).reset_index()\n",
        "frequency_table.columns = ['Valor', 'Frecuencia']\n",
        "print(\"Tabla de frecuencias:\")\n",
        "print(frequency_table)"
      ]
    },
    {
      "cell_type": "markdown",
      "metadata": {
        "id": "Lyp7AnAKUvAW"
      },
      "source": [
        "# MEDIDAS DE DISPERSIÓN\n"
      ]
    },
    {
      "cell_type": "markdown",
      "metadata": {
        "id": "q7g9HTmSU3Pl"
      },
      "source": [
        "### Varianza"
      ]
    },
    {
      "cell_type": "code",
      "execution_count": 8,
      "metadata": {
        "colab": {
          "base_uri": "https://localhost:8080/"
        },
        "id": "HI_yCac2U5AL",
        "outputId": "e953e792-b13d-4e2e-da7b-c5f913d85ad6"
      },
      "outputs": [
        {
          "name": "stdout",
          "output_type": "stream",
          "text": [
            "1488\n",
            "12\n",
            "El promedio de multas es de  29\n",
            "La varianza poblacional es de 124.0 multas al cuadrado\n",
            "La varianza poblacional es de 135.27 multas al cuadrado\n"
          ]
        }
      ],
      "source": [
        "meses=['Enero','Febrero','Marzo','Abril','Mayo','Junio','Julio','Agosto','Septiembre','Octubre','Noviembre','Diciembre']\n",
        "multas=[19,17,22,18,28,34,45,39,38,44,34,10]\n",
        "\n",
        "# Calculamos la media de los datos\n",
        "media_multas=mean(multas)\n",
        "\n",
        "# Calculamos la varianza poblacional\n",
        "varianza_poblacional_multas = sum((x - media_multas) ** 2 for x in multas) / len(multas)\n",
        "valor_numerador=sum((x - media_multas) ** 2 for x in multas)\n",
        "valor_denominador=len(multas)\n",
        "print(valor_numerador)\n",
        "print(valor_denominador)\n",
        "\n",
        "# Calculamos la varianza \n",
        "varianza_muestral_multas = sum((x - media_multas) ** 2 for x in multas) /(len(multas)-1)\n",
        "\n",
        "\n",
        "print(f'El promedio de multas es de  {round(media_multas,2)}')\n",
        "print(f'La varianza poblacional es de {round(varianza_poblacional_multas,2)} multas al cuadrado')\n",
        "print(f'La varianza muestral es de {round(varianza_muestral_multas,2)} multas al cuadrado')"
      ]
    },
    {
      "cell_type": "markdown",
      "metadata": {
        "id": "lDSdePMO85dQ"
      },
      "source": [
        "### Desviación estandar"
      ]
    },
    {
      "cell_type": "code",
      "execution_count": 7,
      "metadata": {
        "colab": {
          "base_uri": "https://localhost:8080/"
        },
        "id": "86q0cRZa4-Ls",
        "outputId": "cc99869d-215a-47d0-ade5-8f25bd047558"
      },
      "outputs": [
        {
          "name": "stdout",
          "output_type": "stream",
          "text": [
            "La desviación estándar es de 11.14 multas\n",
            "La desviación estándar es de 11.63 multas\n"
          ]
        }
      ],
      "source": [
        "desviacion_estandar_poblacional_multas=(varianza_poblacional_multas)**(1/2)\n",
        "desviacion_estandar_muestral_multas=(varianza_muestral_multas)**(1/2)\n",
        "print(f'La desviación estándar poblacional es de {round(desviacion_estandar_poblacional_multas,2)} multas')\n",
        "print(f'La desviación estándar muestral es de {round(desviacion_estandar_muestral_multas,2)} multas')"
      ]
    },
    {
      "cell_type": "markdown",
      "metadata": {
        "id": "9Cgjbcs-2jVr"
      },
      "source": [
        "### Coeficiente de Variación"
      ]
    },
    {
      "cell_type": "code",
      "execution_count": 9,
      "metadata": {
        "colab": {
          "base_uri": "https://localhost:8080/"
        },
        "id": "9h-HcJ6k2mZR",
        "outputId": "4d31f690-5db3-4943-a3c0-a331e46c2c29"
      },
      "outputs": [
        {
          "name": "stdout",
          "output_type": "stream",
          "text": [
            "El coeficiente de variación es de 38.4\n"
          ]
        }
      ],
      "source": [
        "CV=(desviacion_estandar_poblacional_multas/media_multas)*100\n",
        "print(f'El coeficiente de variación es de {round(CV,2)}')"
      ]
    }
  ],
  "metadata": {
    "colab": {
      "provenance": []
    },
    "kernelspec": {
      "display_name": "Python 3",
      "name": "python3"
    },
    "language_info": {
      "name": "python"
    }
  },
  "nbformat": 4,
  "nbformat_minor": 0
}
