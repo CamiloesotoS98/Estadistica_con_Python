{
 "cells": [
  {
   "cell_type": "code",
   "execution_count": 1,
   "metadata": {},
   "outputs": [],
   "source": [
    "import numpy as np\n",
    "from scipy.stats import binom"
   ]
  },
  {
   "cell_type": "code",
   "execution_count": 2,
   "metadata": {},
   "outputs": [
    {
     "name": "stdout",
     "output_type": "stream",
     "text": [
      "La probabilidad de obtener 15 éxitos es 0.0888\n"
     ]
    }
   ],
   "source": [
    "# Parámetros de la distribución binomial\n",
    "n = 50  # Número de ensayos\n",
    "p = 0.25  # Probabilidad de éxito en cada ensayo\n",
    "\n",
    "# Crear una variable aleatoria binomial\n",
    "binomial_rv = binom(n, p)\n",
    "binomial_rv\n",
    "x = 15\n",
    "probabilidad_k_exitos = binomial_rv.pmf(x)\n",
    "print(f\"La probabilidad de obtener {x} éxitos es {probabilidad_k_exitos:.4f}\")\n"
   ]
  },
  {
   "cell_type": "code",
   "execution_count": 3,
   "metadata": {},
   "outputs": [
    {
     "name": "stdout",
     "output_type": "stream",
     "text": [
      "La probabilidad de que menos de 15 personas hubiesen obtenido un título universitario de pregrado es 0.7480811\n"
     ]
    }
   ],
   "source": [
    "from scipy.stats import binom\n",
    "\n",
    "# Parámetros de la distribución binomial\n",
    "n = 50  # Número de ensayos\n",
    "p = 0.25  # Probabilidad de éxito en cada ensayo\n",
    "x = 15\n",
    "\n",
    "# Calcular la probabilidad acumulada de obtener menos de 15 éxitos (es decir, hasta 14 éxitos)\n",
    "probabilidad_menos_de_15 = binom.cdf(x - 1, n, p)\n",
    "print(f\"La probabilidad de que menos de 15 personas hubiesen obtenido un título universitario de pregrado es {probabilidad_menos_de_15:.7f}\")"
   ]
  }
 ],
 "metadata": {
  "kernelspec": {
   "display_name": "Python 3",
   "language": "python",
   "name": "python3"
  },
  "language_info": {
   "codemirror_mode": {
    "name": "ipython",
    "version": 3
   },
   "file_extension": ".py",
   "mimetype": "text/x-python",
   "name": "python",
   "nbconvert_exporter": "python",
   "pygments_lexer": "ipython3",
   "version": "3.12.3"
  }
 },
 "nbformat": 4,
 "nbformat_minor": 2
}
