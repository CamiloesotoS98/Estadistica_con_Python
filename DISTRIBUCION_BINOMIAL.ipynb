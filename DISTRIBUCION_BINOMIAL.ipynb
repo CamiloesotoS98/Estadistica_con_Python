{
 "cells": [
  {
   "cell_type": "code",
   "execution_count": 1,
   "metadata": {},
   "outputs": [],
   "source": [
    "import numpy as np\n",
    "from scipy.stats import binom"
   ]
  },
  {
   "cell_type": "code",
   "execution_count": 5,
   "metadata": {},
   "outputs": [
    {
     "name": "stdout",
     "output_type": "stream",
     "text": [
      "La probabilidad de obtener 15 éxitos es 0.0888\n"
     ]
    }
   ],
   "source": [
    "# Valor puntual\n",
    "\n",
    "# Parámetros de la distribución binomial\n",
    "n = 50  # Número de ensayos\n",
    "p = 0.25  # Probabilidad de éxito en cada ensayo\n",
    "x = 15\n",
    "probabilidad_k_exitos = binom.pmf(x,n,p)\n",
    "print(f\"La probabilidad de obtener {x} éxitos es {probabilidad_k_exitos:.4f}\")"
   ]
  },
  {
   "cell_type": "code",
   "execution_count": 11,
   "metadata": {},
   "outputs": [
    {
     "name": "stdout",
     "output_type": "stream",
     "text": [
      "La probabilidad de obtener exactamente 4 caras al lanzar una moneda 6 veces es 0.2344\n"
     ]
    }
   ],
   "source": [
    "# Parámetros de la distribución binomial\n",
    "n = 6  # Número de ensayos\n",
    "p = 0.5  # Probabilidad de éxito en cada ensayo\n",
    "x = 4  # Número de éxitos deseados\n",
    "\n",
    "# Calcular la probabilidad de obtener exactamente 4 éxitos\n",
    "probabilidad = binom.pmf(x, n, p)\n",
    "print(f\"La probabilidad de obtener exactamente {x} caras al lanzar una moneda {n} veces es {probabilidad:.4f}\")\n"
   ]
  },
  {
   "cell_type": "code",
   "execution_count": null,
   "metadata": {},
   "outputs": [],
   "source": [
    "# Parámetros de la distribución binomial\n",
    "n = 5  # Número de ensayos\n",
    "p = 0.5  # Probabilidad de éxito en cada ensayo\n",
    "x = 5 # Número de éxitos deseados\n",
    "\n",
    "probabilidad = binom.pmf(x, n, p)\n",
    "print(f\"La probabilidad de que todas las preguntas sean verdaderas es de {probabilidad:.7f}\")"
   ]
  },
  {
   "cell_type": "code",
   "execution_count": null,
   "metadata": {},
   "outputs": [],
   "source": [
    "# Valor acumulado\n",
    "\n",
    "# Parámetros de la distribución binomial\n",
    "n = 50  # Número de ensayos\n",
    "p = 0.25  # Probabilidad de éxito en cada ensayo\n",
    "x = 15\n",
    "\n",
    "# Calcular la probabilidad acumulada de obtener menos de 15 éxitos (es decir, hasta 14 éxitos)\n",
    "probabilidad_menos_de_15 = binom.cdf(x - 1, n, p)\n",
    "print(f\"La probabilidad de que menos de 15 personas hubiesen obtenido un título universitario de pregrado es {probabilidad_menos_de_15:.7f}\")"
   ]
  },
  {
   "cell_type": "code",
   "execution_count": 13,
   "metadata": {},
   "outputs": [
    {
     "name": "stdout",
     "output_type": "stream",
     "text": [
      "La probabilidad de obtener a lo más dos caras es de 0.8750000\n"
     ]
    }
   ],
   "source": [
    "# Parámetros de la distribución binomial\n",
    "n = 3  # Número de ensayos\n",
    "p = 0.5  # Probabilidad de éxito en cada ensayo\n",
    "x = 2 # Número de éxitos deseados\n",
    "\n",
    "# A lo mas P(X<=2)\n",
    "probabilidad = binom.cdf(x, n, p)\n",
    "print(f\"La probabilidad de obtener a lo más dos caras es de {probabilidad:.7f}\")"
   ]
  },
  {
   "cell_type": "code",
   "execution_count": 14,
   "metadata": {},
   "outputs": [
    {
     "name": "stdout",
     "output_type": "stream",
     "text": [
      "La probabilidad de obtener a lo más dos caras es de 0.4315179\n"
     ]
    }
   ],
   "source": [
    "# Parámetros de la distribución binomial\n",
    "n = 30  # Número de ensayos\n",
    "p = 0.7  # Probabilidad de éxito en cada ensayo\n",
    "x = 21 # Número de éxitos deseados\n",
    "\n",
    "# A lo mas P(X<=2)\n",
    "probabilidad =1- binom.cdf(x, n, p)\n",
    "print(f\"La probabilidad de que responda correctamente es de {probabilidad:.7f}\")"
   ]
  }
 ],
 "metadata": {
  "kernelspec": {
   "display_name": "Python 3",
   "language": "python",
   "name": "python3"
  },
  "language_info": {
   "codemirror_mode": {
    "name": "ipython",
    "version": 3
   },
   "file_extension": ".py",
   "mimetype": "text/x-python",
   "name": "python",
   "nbconvert_exporter": "python",
   "pygments_lexer": "ipython3",
   "version": "3.12.3"
  }
 },
 "nbformat": 4,
 "nbformat_minor": 2
}
